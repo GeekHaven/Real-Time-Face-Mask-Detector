{
 "cells": [
  {
   "cell_type": "code",
   "execution_count": 5,
   "metadata": {},
   "outputs": [],
   "source": [
    "import sys\n",
    "import os\n",
    "import math\n",
    "\n",
    "import numpy as np\n",
    "import pandas as pd\n",
    "import matplotlib.pyplot as plt\n",
    "%matplotlib inline\n",
    "import seaborn as sns\n",
    "\n",
    "# uncomment the following line if 'imutils' is not installed in your python kernel\n",
    "# !{sys.executable} -m pip install imutils\n",
    "import imutils\n",
    "from imutils import paths\n",
    "\n",
    "\n",
    "import keras\n",
    "from keras.layers import Dense, Conv2D, BatchNormalization, Dropout, Activation, MaxPooling2D, Flatten\n",
    "from keras.models import Sequential, load_model\n",
    "from keras.losses import categorical_crossentropy, binary_crossentropy\n",
    "from keras.optimizers import Adam\n",
    "from keras.utils import np_utils\n",
    "from keras.regularizers import l2\n",
    "from keras import regularizers\n",
    "from keras.callbacks import ModelCheckpoint\n",
    "from keras.preprocessing.image import ImageDataGenerator\n",
    "from keras.preprocessing.image import img_to_array\n",
    "from keras.applications.mobilenet_v2 import preprocess_input\n",
    "from keras.preprocessing.image import load_img\n",
    "from keras.utils import to_categorical\n",
    "from sklearn.preprocessing import LabelBinarizer\n",
    "\n",
    "import cv2\n",
    "import time\n",
    "import random\n",
    "import shutil"
   ]
  },
  {
   "cell_type": "code",
   "execution_count": 16,
   "metadata": {},
   "outputs": [
    {
     "name": "stdout",
     "output_type": "stream",
     "text": [
      "Found 1314 images belonging to 2 classes.\n",
      "Found 194 images belonging to 2 classes.\n"
     ]
    }
   ],
   "source": [
    "train_datagen = ImageDataGenerator(\n",
    "        rescale=1./255,\n",
    "        shear_range=0.2,\n",
    "        zoom_range=0.2,\n",
    "        horizontal_flip=True)\n",
    "test_datagen = ImageDataGenerator(rescale=1./255)\n",
    "\n",
    "training_set = train_datagen.flow_from_directory(\n",
    "        'train',\n",
    "        target_size=(224,224),\n",
    "        batch_size=16 ,\n",
    "        class_mode='binary')\n",
    "\n",
    "test_set = test_datagen.flow_from_directory(\n",
    "        'test',\n",
    "        target_size=(224,224),\n",
    "        batch_size=16,\n",
    "        class_mode='binary')"
   ]
  },
  {
   "cell_type": "code",
   "execution_count": 27,
   "metadata": {},
   "outputs": [
    {
     "name": "stdout",
     "output_type": "stream",
     "text": [
      "Model: \"sequential_8\"\n",
      "_________________________________________________________________\n",
      "Layer (type)                 Output Shape              Param #   \n",
      "=================================================================\n",
      "conv2d_21 (Conv2D)           (None, 222, 222, 32)      896       \n",
      "_________________________________________________________________\n",
      "max_pooling2d_21 (MaxPooling (None, 111, 111, 32)      0         \n",
      "_________________________________________________________________\n",
      "conv2d_22 (Conv2D)           (None, 109, 109, 64)      18496     \n",
      "_________________________________________________________________\n",
      "max_pooling2d_22 (MaxPooling (None, 54, 54, 64)        0         \n",
      "_________________________________________________________________\n",
      "conv2d_23 (Conv2D)           (None, 52, 52, 128)       73856     \n",
      "_________________________________________________________________\n",
      "max_pooling2d_23 (MaxPooling (None, 26, 26, 128)       0         \n",
      "_________________________________________________________________\n",
      "dropout_7 (Dropout)          (None, 26, 26, 128)       0         \n",
      "_________________________________________________________________\n",
      "conv2d_24 (Conv2D)           (None, 26, 26, 128)       147584    \n",
      "_________________________________________________________________\n",
      "max_pooling2d_24 (MaxPooling (None, 13, 13, 128)       0         \n",
      "_________________________________________________________________\n",
      "flatten_7 (Flatten)          (None, 21632)             0         \n",
      "_________________________________________________________________\n",
      "dropout_8 (Dropout)          (None, 21632)             0         \n",
      "_________________________________________________________________\n",
      "dense_16 (Dense)             (None, 256)               5538048   \n",
      "_________________________________________________________________\n",
      "dense_17 (Dense)             (None, 128)               32896     \n",
      "_________________________________________________________________\n",
      "dense_18 (Dense)             (None, 1)                 129       \n",
      "=================================================================\n",
      "Total params: 5,811,905\n",
      "Trainable params: 5,811,905\n",
      "Non-trainable params: 0\n",
      "_________________________________________________________________\n"
     ]
    }
   ],
   "source": [
    "model=Sequential()\n",
    "\n",
    "model.add(Conv2D(32, 3, activation='relu', input_shape=(224, 224, 3), kernel_regularizer=regularizers.l1_l2(0.005)))\n",
    "model.add(MaxPooling2D(2,2))\n",
    "\n",
    "model.add(Conv2D(64, 3, activation='relu'))\n",
    "model.add(MaxPooling2D(2,2))\n",
    "          \n",
    "model.add(Conv2D(128, 3, activation='relu'))\n",
    "model.add(MaxPooling2D(2,2)) \n",
    "model.add(Dropout(0.3))\n",
    "\n",
    "model.add(Conv2D(128, 3, activation='relu', padding='same'))\n",
    "model.add(MaxPooling2D(2,2)) \n",
    "\n",
    "model.add(Flatten())\n",
    "model.add(Dropout(0.3))\n",
    "          \n",
    "model.add(Dense(256, activation ='relu'))\n",
    "model.add(Dense(128, activation ='relu'))\n",
    "model.add(Dense(1, activation ='sigmoid'))         \n",
    "\n",
    "model.compile(optimizer='adam', loss='binary_crossentropy', metrics=['accuracy'])\n",
    "model.summary()"
   ]
  },
  {
   "cell_type": "code",
   "execution_count": 26,
   "metadata": {},
   "outputs": [
    {
     "name": "stdout",
     "output_type": "stream",
     "text": [
      "Epoch 1/30\n",
      "83/83 [==============================] - 262s 3s/step - loss: 0.7810 - accuracy: 0.8988 - val_loss: 0.7875 - val_accuracy: 0.9175\n",
      "Epoch 2/30\n",
      "83/83 [==============================] - 255s 3s/step - loss: 0.3935 - accuracy: 0.9597 - val_loss: 0.6168 - val_accuracy: 0.9536\n",
      "Epoch 3/30\n",
      "83/83 [==============================] - 240s 3s/step - loss: 0.3366 - accuracy: 0.9688 - val_loss: 0.5308 - val_accuracy: 0.9330\n",
      "Epoch 4/30\n",
      "83/83 [==============================] - 238s 3s/step - loss: 0.3269 - accuracy: 0.9650 - val_loss: 0.4325 - val_accuracy: 0.9330\n",
      "Epoch 5/30\n",
      "83/83 [==============================] - 270s 3s/step - loss: 0.3682 - accuracy: 0.9505 - val_loss: 0.5814 - val_accuracy: 0.8196\n",
      "Epoch 6/30\n",
      "83/83 [==============================] - 321s 4s/step - loss: 0.3498 - accuracy: 0.9513 - val_loss: 0.4315 - val_accuracy: 0.9639\n",
      "Epoch 7/30\n",
      "83/83 [==============================] - 291s 4s/step - loss: 0.3691 - accuracy: 0.9543 - val_loss: 0.2593 - val_accuracy: 0.9691\n",
      "Epoch 8/30\n",
      "83/83 [==============================] - 280s 3s/step - loss: 0.2614 - accuracy: 0.9718 - val_loss: 0.2620 - val_accuracy: 0.9742\n",
      "Epoch 9/30\n",
      "83/83 [==============================] - 239s 3s/step - loss: 0.2021 - accuracy: 0.9863 - val_loss: 0.2266 - val_accuracy: 0.9897\n",
      "Epoch 10/30\n",
      "83/83 [==============================] - 239s 3s/step - loss: 0.1969 - accuracy: 0.9886 - val_loss: 0.3050 - val_accuracy: 0.9485\n",
      "Epoch 11/30\n",
      "83/83 [==============================] - 321s 4s/step - loss: 0.2029 - accuracy: 0.9817 - val_loss: 0.2343 - val_accuracy: 0.9794\n",
      "Epoch 12/30\n",
      "83/83 [==============================] - 304s 4s/step - loss: 0.1642 - accuracy: 0.9916 - val_loss: 0.3415 - val_accuracy: 0.9381\n",
      "Epoch 13/30\n",
      "83/83 [==============================] - 294s 4s/step - loss: 0.1528 - accuracy: 0.9901 - val_loss: 0.5138 - val_accuracy: 0.8763\n",
      "Epoch 14/30\n",
      "83/83 [==============================] - 308s 4s/step - loss: 0.1746 - accuracy: 0.9833 - val_loss: 0.2086 - val_accuracy: 0.9691\n",
      "Epoch 15/30\n",
      "83/83 [==============================] - 306s 4s/step - loss: 0.1492 - accuracy: 0.9886 - val_loss: 0.1917 - val_accuracy: 0.9742\n",
      "Epoch 16/30\n",
      "83/83 [==============================] - 305s 4s/step - loss: 0.1594 - accuracy: 0.9825 - val_loss: 0.2469 - val_accuracy: 0.9433\n",
      "Epoch 17/30\n",
      "83/83 [==============================] - 268s 3s/step - loss: 0.1462 - accuracy: 0.9840 - val_loss: 0.4200 - val_accuracy: 0.9072\n",
      "Epoch 18/30\n",
      "83/83 [==============================] - 295s 4s/step - loss: 0.1816 - accuracy: 0.9741 - val_loss: 1.3399 - val_accuracy: 0.7423\n",
      "Epoch 19/30\n",
      "83/83 [==============================] - 238s 3s/step - loss: 0.1377 - accuracy: 0.9848 - val_loss: 9.0759 - val_accuracy: 0.5000\n",
      "Epoch 20/30\n",
      "83/83 [==============================] - 238s 3s/step - loss: 0.1191 - accuracy: 0.9863 - val_loss: 0.3716 - val_accuracy: 0.9536\n",
      "Epoch 21/30\n",
      "83/83 [==============================] - 241s 3s/step - loss: 0.1007 - accuracy: 0.9954 - val_loss: 0.3183 - val_accuracy: 0.9691\n",
      "Epoch 22/30\n",
      "83/83 [==============================] - 237s 3s/step - loss: 0.1128 - accuracy: 0.9901 - val_loss: 0.1914 - val_accuracy: 0.9845\n",
      "Epoch 23/30\n",
      "83/83 [==============================] - 237s 3s/step - loss: 0.1177 - accuracy: 0.9840 - val_loss: 0.1705 - val_accuracy: 0.9691\n",
      "Epoch 24/30\n",
      "83/83 [==============================] - 238s 3s/step - loss: 0.0923 - accuracy: 0.9932 - val_loss: 0.1332 - val_accuracy: 0.9794\n",
      "Epoch 25/30\n",
      "83/83 [==============================] - 241s 3s/step - loss: 0.0852 - accuracy: 0.9932 - val_loss: 0.3557 - val_accuracy: 0.9381\n",
      "Epoch 26/30\n",
      "83/83 [==============================] - 241s 3s/step - loss: 0.0961 - accuracy: 0.9916 - val_loss: 0.2872 - val_accuracy: 0.9536\n",
      "Epoch 27/30\n",
      "83/83 [==============================] - 241s 3s/step - loss: 0.1122 - accuracy: 0.9848 - val_loss: 1.2901 - val_accuracy: 0.8093\n",
      "Epoch 28/30\n",
      "83/83 [==============================] - 240s 3s/step - loss: 0.1519 - accuracy: 0.9734 - val_loss: 0.2384 - val_accuracy: 0.9639\n",
      "Epoch 29/30\n",
      "83/83 [==============================] - 239s 3s/step - loss: 0.1102 - accuracy: 0.9833 - val_loss: 0.3601 - val_accuracy: 0.9485\n",
      "Epoch 30/30\n",
      "83/83 [==============================] - 240s 3s/step - loss: 0.0865 - accuracy: 0.9909 - val_loss: 0.2386 - val_accuracy: 0.9588\n"
     ]
    }
   ],
   "source": [
    "history=model.fit(training_set, epochs=30, validation_data=test_set)"
   ]
  },
  {
   "cell_type": "code",
   "execution_count": 28,
   "metadata": {},
   "outputs": [
    {
     "data": {
      "image/png": "[encoded data removed]",
      "text/plain": [
       "<Figure size 432x288 with 1 Axes>"
      ]
     },
     "metadata": {
      "needs_background": "light"
     },
     "output_type": "display_data"
    },
    {
     "data": {
      "image/png": "[encoded data removed]",
      "text/plain": [
       "<Figure size 432x288 with 1 Axes>"
      ]
     },
     "metadata": {
      "needs_background": "light"
     },
     "output_type": "display_data"
    }
   ],
   "source": [
    "plt.plot(history.history['loss'],'r',label='Training Loss')\n",
    "plt.plot(history.history['val_loss'],label='Validation Loss')\n",
    "plt.xlabel('No. of Epochs')\n",
    "plt.ylabel('Loss')\n",
    "plt.legend()\n",
    "plt.show()\n",
    "\n",
    "# Plotting the accuracy on validation set w.r.t the number of epochs\n",
    "plt.plot(history.history['accuracy'],'r',label='Training Accuracy')\n",
    "plt.plot(history.history['val_accuracy'],label='Validation Accuracy')\n",
    "plt.xlabel('No. of Epochs')\n",
    "plt.ylabel('Accuracy')\n",
    "plt.legend()\n",
    "plt.show()"
   ]
  },
  {
   "cell_type": "code",
   "execution_count": 29,
   "metadata": {},
   "outputs": [],
   "source": [
    "model.save('dev_model.h5', history)"
   ]
  },
  {
   "cell_type": "code",
   "execution_count": null,
   "metadata": {},
   "outputs": [],
   "source": []
  }
 ],
 "metadata": {
  "kernelspec": {
   "display_name": "Python 3",
   "language": "python",
   "name": "python3"
  },
  "language_info": {
   "codemirror_mode": {
    "name": "ipython",
    "version": 3
   },
   "file_extension": ".py",
   "mimetype": "text/x-python",
   "name": "python",
   "nbconvert_exporter": "python",
   "pygments_lexer": "ipython3",
   "version": "3.7.6"
  }
 },
 "nbformat": 4,
 "nbformat_minor": 4
}
