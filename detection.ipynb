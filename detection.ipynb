{
  "nbformat": 4,
  "nbformat_minor": 0,
  "metadata": {
    "colab": {
      "name": "detection.ipynb",
      "provenance": [],
      "mount_file_id": "1A-om11H3DIv_owu5TTibQ8Y7Sjv03iC7",
      "authorship_tag": "ABX9TyNwArpXbvJN6Iq4kR4faRXq",
      "include_colab_link": true
    },
    "kernelspec": {
      "name": "python3",
      "display_name": "Python 3"
    }
  },
  "cells": [
    {
      "cell_type": "markdown",
      "metadata": {
        "id": "view-in-github",
        "colab_type": "text"
      },
      "source": [
        "<a href=\"https://colab.research.google.com/github/aarpit1010/Real-Time-Face-Mask-Detector/blob/master/detection.ipynb\" target=\"_parent\"><img src=\"https://colab.research.google.com/assets/colab-badge.svg\" alt=\"Open In Colab\"/></a>"
      ]
    },
    {
      "cell_type": "code",
      "metadata": {
        "id": "-vUDkKhNUqDB",
        "colab_type": "code",
        "colab": {}
      },
      "source": [
        "import os\n",
        "import sys\n",
        "\n",
        "import numpy as np\n",
        "\n",
        "import keras\n",
        "from keras.models import load_model\n",
        "\n",
        "\n",
        "import cv2\n",
        "import datetime\n",
        "\n"
      ],
      "execution_count": 4,
      "outputs": []
    },
    {
      "cell_type": "code",
      "metadata": {
        "id": "_aFF9ckDVa35",
        "colab_type": "code",
        "colab": {}
      },
      "source": [
        "# IMPLEMENTING LIVE DETECTION OF FACE MASK\n",
        "\n",
        "# Importing the saved model from the IPython notebook\n",
        "mymodel=load_model('/content/drive/My Drive/Colab Notebooks/Face Mask Detector/trained_model.h5')\n",
        "\n",
        "# Importing the Face Classifier XML file containing all features of the face\n",
        "face_classifier=cv2.CascadeClassifier('/content/drive/My Drive/Colab Notebooks/Face Mask Detector/haarcascade_frontalface_default.xml')\n",
        "\n",
        "# To open a video via link to be inserted in the () of VideoCapture()\n",
        "# To open the web cam connected to your laptop/PC, write '0' (without quotes) in the () of VideoCapture()\n",
        "src_cap=cv2.VideoCapture(0)\n",
        "\n",
        "while src_cap.isOpened():\n",
        "    _,img=src_cap.read()\n",
        "\n",
        "    rgb = cv2.cvtColor(img, cv2.COLOR_BGR2RGB)\n",
        "\n",
        "    # detect MultiScale / faces\n",
        "    faces = face_classifier.detectMultiScale(rgb, 1.3, 5)\n",
        "\n",
        "    # Draw rectangles around each face\n",
        "    for (x, y, w, h) in faces:\n",
        "\n",
        "        #Save just the rectangle faces in SubRecFaces\n",
        "        face_img = rgb[y:y+w, x:x+w]\n",
        "\n",
        "        face_img=cv2.resize(face_img,(224,224))\n",
        "        face_img=face_img/255.0\n",
        "        face_img=np.reshape(face_img,(224,224,3))\n",
        "        face_img=np.expand_dims(face_img,axis=0)\n",
        "\n",
        "\n",
        "        pred=mymodel.predict_classes(face_img)\n",
        "        # print(pred)\n",
        "\n",
        "        if pred[0][0]==1:\n",
        "            cv2.rectangle(img, (x,y), (x+w, y+h), (0,0,255), 2)\n",
        "            cv2.rectangle(img, (x,y-40), (x+w,y), (0,0,255),-1)\n",
        "            cv2.putText(img,'NO MASK',(250,50),cv2.FONT_HERSHEY_SIMPLEX,1,(0,0,255),4)\n",
        "        else:\n",
        "            cv2.rectangle(img, (x,y), (x+w, y+h), (0,255,0), 2)\n",
        "            cv2.rectangle(img, (x,y-40), (x+w,y), (0,255,0),-1)\n",
        "            cv2.putText(img,'MASK',(250,50),cv2.FONT_HERSHEY_SIMPLEX,1,(0,255,0),4)\n",
        "            \n",
        "        datet=str(datetime.datetime.now())\n",
        "        cv2.putText(img,datet,(400,450),cv2.FONT_HERSHEY_SIMPLEX,0.5,(255,255,255),1)\n",
        "\n",
        "        \n",
        "    # Show the image\n",
        "    cv2.imshow('LIVE DETECTION',img)\n",
        "    \n",
        "    # if key 'q' is press then break out of the loop\n",
        "    if cv2.waitKey(1)==ord('q'):\n",
        "        break\n",
        "    \n",
        "# Stop video\n",
        "src_cap.release()\n",
        "\n",
        "# Close all started windows\n",
        "cv2.destroyAllWindows()"
      ],
      "execution_count": 6,
      "outputs": []
    },
    {
      "cell_type": "code",
      "metadata": {
        "id": "KZqogFBrlK0l",
        "colab_type": "code",
        "colab": {}
      },
      "source": [
        ""
      ],
      "execution_count": null,
      "outputs": []
    }
  ]
}